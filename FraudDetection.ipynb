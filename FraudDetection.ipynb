{
  "nbformat": 4,
  "nbformat_minor": 0,
  "metadata": {
    "colab": {
      "provenance": []
    },
    "kernelspec": {
      "name": "python3",
      "display_name": "Python 3"
    },
    "language_info": {
      "name": "python"
    }
  },
  "cells": [
    {
      "cell_type": "code",
      "execution_count": 1,
      "metadata": {
        "id": "zmseI78d9Hlb"
      },
      "outputs": [],
      "source": [
        "# Import models and utility functions\n",
        "from sklearn.tree import DecisionTreeClassifier\n",
        "from sklearn.model_selection import train_test_split, learning_curve\n",
        "from sklearn.metrics import mean_squared_error as MSE\n",
        "from sklearn.metrics import roc_auc_score, accuracy_score\n",
        "import pandas as pd\n",
        "import numpy as np\n",
        "import matplotlib.pyplot as plt\n",
        "import matplotlib.lines as mlines\n",
        "from mpl_toolkits.mplot3d import Axes3D\n",
        "import seaborn as sns"
      ]
    },
    {
      "cell_type": "code",
      "source": [
        "# ignore warning\n",
        "import warnings\n",
        "warnings.filterwarnings(\"ignore\", category=DeprecationWarning)"
      ],
      "metadata": {
        "id": "oElAGmwh9QuK"
      },
      "execution_count": 2,
      "outputs": []
    },
    {
      "cell_type": "markdown",
      "source": [
        "# **Data Cleaning**\n",
        "\n",
        "---\n",
        "\n",
        "\n",
        "Columns are renamed for better readability.\n",
        "Irrelevant columns like 'Name_Orig', 'Name_Dest', 'isFlaggedFraud', and 'type' were dropped from the dataset."
      ],
      "metadata": {
        "id": "bwZb9iiO9Z2U"
      }
    },
    {
      "cell_type": "code",
      "source": [
        "# import data\n",
        "file = 'Fraud.csv'\n",
        "df = pd.read_csv(file)\n",
        "print(df.columns)\n",
        "df = df.rename(columns={'oldbalanceOrg': 'Old_Balance_Orig',\n",
        "                        'newbalanceOrig': 'New_Balance_Orig',\n",
        "                        'oldbalanceDest': 'Old_Balance_Dest',\n",
        "                        'newbalanceDest': 'New_Balance_Dest',\n",
        "                        'nameOrig': 'Name_Orig',\n",
        "                        'nameDest': 'Name_Dest'})"
      ],
      "metadata": {
        "colab": {
          "base_uri": "https://localhost:8080/"
        },
        "id": "YBpgLpL99ck1",
        "outputId": "153d5240-7e52-497d-da65-a12fd099609e"
      },
      "execution_count": 3,
      "outputs": [
        {
          "output_type": "stream",
          "name": "stdout",
          "text": [
            "Index(['step', 'type', 'amount', 'nameOrig', 'oldbalanceOrg', 'newbalanceOrig',\n",
            "       'nameDest', 'oldbalanceDest', 'newbalanceDest', 'isFraud',\n",
            "       'isFlaggedFraud'],\n",
            "      dtype='object')\n"
          ]
        }
      ]
    },
    {
      "cell_type": "code",
      "source": [
        "print(df.head())"
      ],
      "metadata": {
        "colab": {
          "base_uri": "https://localhost:8080/"
        },
        "id": "vSaNuBii-Etp",
        "outputId": "5f0b7552-7922-4781-ec97-b3c5389c4fdd"
      },
      "execution_count": 4,
      "outputs": [
        {
          "output_type": "stream",
          "name": "stdout",
          "text": [
            "   step      type    amount    Name_Orig  Old_Balance_Orig  New_Balance_Orig  \\\n",
            "0     1   PAYMENT   9839.64  C1231006815          170136.0         160296.36   \n",
            "1     1   PAYMENT   1864.28  C1666544295           21249.0          19384.72   \n",
            "2     1  TRANSFER    181.00  C1305486145             181.0              0.00   \n",
            "3     1  CASH_OUT    181.00   C840083671             181.0              0.00   \n",
            "4     1   PAYMENT  11668.14  C2048537720           41554.0          29885.86   \n",
            "\n",
            "     Name_Dest  Old_Balance_Dest  New_Balance_Dest  isFraud  isFlaggedFraud  \n",
            "0  M1979787155               0.0               0.0      0.0             0.0  \n",
            "1  M2044282225               0.0               0.0      0.0             0.0  \n",
            "2   C553264065               0.0               0.0      1.0             0.0  \n",
            "3    C38997010           21182.0               0.0      1.0             0.0  \n",
            "4  M1230701703               0.0               0.0      0.0             0.0  \n"
          ]
        }
      ]
    },
    {
      "cell_type": "code",
      "source": [
        "print(df.info())"
      ],
      "metadata": {
        "colab": {
          "base_uri": "https://localhost:8080/"
        },
        "id": "6FkX_V5N-G9k",
        "outputId": "07db9b23-5e3c-4186-914d-8ecc0a3184eb"
      },
      "execution_count": 5,
      "outputs": [
        {
          "output_type": "stream",
          "name": "stdout",
          "text": [
            "<class 'pandas.core.frame.DataFrame'>\n",
            "RangeIndex: 14247 entries, 0 to 14246\n",
            "Data columns (total 11 columns):\n",
            " #   Column            Non-Null Count  Dtype  \n",
            "---  ------            --------------  -----  \n",
            " 0   step              14247 non-null  int64  \n",
            " 1   type              14247 non-null  object \n",
            " 2   amount            14247 non-null  float64\n",
            " 3   Name_Orig         14247 non-null  object \n",
            " 4   Old_Balance_Orig  14246 non-null  float64\n",
            " 5   New_Balance_Orig  14246 non-null  float64\n",
            " 6   Name_Dest         14246 non-null  object \n",
            " 7   Old_Balance_Dest  14246 non-null  float64\n",
            " 8   New_Balance_Dest  14246 non-null  float64\n",
            " 9   isFraud           14246 non-null  float64\n",
            " 10  isFlaggedFraud    14246 non-null  float64\n",
            "dtypes: float64(7), int64(1), object(3)\n",
            "memory usage: 1.2+ MB\n",
            "None\n"
          ]
        }
      ]
    },
    {
      "cell_type": "code",
      "source": [
        "# EDA\n",
        "print('\\n The types of fraudulent transactions are {}'.format(list(df.loc[df.isFraud == 1].type.drop_duplicates().values)))"
      ],
      "metadata": {
        "colab": {
          "base_uri": "https://localhost:8080/"
        },
        "id": "w5a-RfbG-KgJ",
        "outputId": "f87be244-cd5e-4293-b391-1e5eda4cc816"
      },
      "execution_count": 6,
      "outputs": [
        {
          "output_type": "stream",
          "name": "stdout",
          "text": [
            "\n",
            " The types of fraudulent transactions are ['TRANSFER', 'CASH_OUT']\n"
          ]
        }
      ]
    },
    {
      "cell_type": "code",
      "source": [
        "dfFraudTransfer = df.loc[(df.isFraud == 1) & (df.type == 'TRANSFER')]\n",
        "dfFraudCashout = df.loc[(df.isFraud == 1) & (df.type == 'CASH_OUT')]"
      ],
      "metadata": {
        "id": "NdTY1mRH-XE0"
      },
      "execution_count": 7,
      "outputs": []
    },
    {
      "cell_type": "code",
      "source": [
        "print('\\n No.fraudulent in TRANSFERs = {}'.\n",
        "      format(len(dfFraudTransfer)))"
      ],
      "metadata": {
        "colab": {
          "base_uri": "https://localhost:8080/"
        },
        "id": "nsSsr0w6-bse",
        "outputId": "799f2531-3c42-4047-f5d7-5e5787c37abc"
      },
      "execution_count": 8,
      "outputs": [
        {
          "output_type": "stream",
          "name": "stdout",
          "text": [
            "\n",
            " No.fraudulent in TRANSFERs = 38\n"
          ]
        }
      ]
    },
    {
      "cell_type": "code",
      "source": [
        "print('\\n No.fraudulent in CASH_OUTs = {}'.\n",
        "      format(len(dfFraudCashout)))"
      ],
      "metadata": {
        "colab": {
          "base_uri": "https://localhost:8080/"
        },
        "id": "Nv9GMQMn-hDl",
        "outputId": "5de11c70-129a-4b5e-d9a7-20220bd1b4f3"
      },
      "execution_count": 9,
      "outputs": [
        {
          "output_type": "stream",
          "name": "stdout",
          "text": [
            "\n",
            " No.fraudulent in CASH_OUTs = 40\n"
          ]
        }
      ]
    },
    {
      "cell_type": "markdown",
      "source": [
        "# **Variable Selection**\n",
        "\n",
        "---\n",
        "\n",
        "\n",
        "In this code, the variable selection process involves excluding certain columns that are either irrelevant or are unlikely to contribute significantly to the fraud detection task. For example, 'Name_Orig' and 'Name_Dest' columns are excluded. The 'isFlaggedFraud' column is excluded as well, as it's likely not useful for predictive modeling."
      ],
      "metadata": {
        "id": "a_fEAwU4_RDq"
      }
    },
    {
      "cell_type": "code",
      "source": [
        "# data import and cleaning\n",
        "X = df.loc[(df.type == 'TRANSFER')]\n",
        "y = X['isFraud']\n",
        "del X['isFraud']"
      ],
      "metadata": {
        "id": "stVgfQjw-khX"
      },
      "execution_count": 10,
      "outputs": []
    },
    {
      "cell_type": "code",
      "source": [
        "# Eliminate columns shown to be irrelevant for analysis in the EDA\n",
        "X = X.drop(['Name_Orig', 'Name_Dest', 'isFlaggedFraud', 'type'], axis=1)\n",
        "print(X.head())"
      ],
      "metadata": {
        "colab": {
          "base_uri": "https://localhost:8080/"
        },
        "id": "sM00V6p2-s2f",
        "outputId": "4eb1f33a-e739-4d3c-df8b-f5d8560ad5cd"
      },
      "execution_count": 11,
      "outputs": [
        {
          "output_type": "stream",
          "name": "stdout",
          "text": [
            "    step     amount  Old_Balance_Orig  New_Balance_Orig  Old_Balance_Dest  \\\n",
            "2      1     181.00            181.00               0.0              0.00   \n",
            "19     1  215310.30            705.00               0.0          22425.00   \n",
            "24     1  311685.89          10835.00               0.0           6267.00   \n",
            "58     1   62610.80          79114.00           16503.2            517.00   \n",
            "78     1   42712.39          10363.39               0.0          57901.66   \n",
            "\n",
            "    New_Balance_Dest  \n",
            "2               0.00  \n",
            "19              0.00  \n",
            "24        2719172.89  \n",
            "58           8383.29  \n",
            "78          24044.18  \n"
          ]
        }
      ]
    },
    {
      "cell_type": "markdown",
      "source": [
        "# **Fraud Detection Model**\n",
        "\n",
        "\n",
        "---\n",
        "\n",
        "\n",
        "\n",
        "\n",
        "A Decision Tree classifier is used as the fraud detection model. A Decision Tree is a supervised machine learning algorithm that's used for classification tasks. It creates a tree-like model of decisions and their possible consequences."
      ],
      "metadata": {
        "id": "XXK_eDg1-z9c"
      }
    },
    {
      "cell_type": "code",
      "source": [
        "# decision tree model\n",
        "X_train, X_test, y_train, y_test = train_test_split(\n",
        "    X, y, test_size=0.2)"
      ],
      "metadata": {
        "id": "vNO_IpN6-wl4"
      },
      "execution_count": 12,
      "outputs": []
    },
    {
      "cell_type": "code",
      "source": [
        "dt = DecisionTreeClassifier(max_depth=2, random_state=1)\n",
        "dt.fit(X_train, y_train)\n",
        "y_pred = dt.predict(X_test)\n",
        "acc = accuracy_score(y_test, y_pred)"
      ],
      "metadata": {
        "id": "_fjyMszD-zbw"
      },
      "execution_count": 13,
      "outputs": []
    },
    {
      "cell_type": "code",
      "source": [
        "print('size of X_train, X_test, y_train, y_test')\n",
        "print(X_train.shape, X_test.shape, y_train.shape, y_test.shape)"
      ],
      "metadata": {
        "colab": {
          "base_uri": "https://localhost:8080/"
        },
        "id": "W8VfcqEE_C6L",
        "outputId": "bc6342fb-325e-4cbc-a8d5-b2f70cd60a3c"
      },
      "execution_count": 14,
      "outputs": [
        {
          "output_type": "stream",
          "name": "stdout",
          "text": [
            "size of X_train, X_test, y_train, y_test\n",
            "(1150, 6) (288, 6) (1150,) (288,)\n"
          ]
        }
      ]
    },
    {
      "cell_type": "markdown",
      "source": [
        "# **Model Performance Evaluation**\n",
        "\n",
        "\n",
        "---\n",
        "\n",
        "\n",
        "The performance of the Decision Tree classifier is evaluated using various metrics:\n",
        "\n",
        "1.Accuracy Score: The percentage of correctly predicted\n",
        "instances out of all instances.\n",
        "\n",
        "2.F1 Macro Score: The F1-score calculated for each class and then averaged.\n",
        "\n",
        "3.F1 Micro Score: The F1-score calculated globally by considering the total number of true positives, false negatives, and false positives."
      ],
      "metadata": {
        "id": "iVhGkf1-_Y6H"
      }
    },
    {
      "cell_type": "code",
      "source": [
        "acc = accuracy_score(y_test, y_pred)\n",
        "print('accuracy of decision tree result',acc)"
      ],
      "metadata": {
        "colab": {
          "base_uri": "https://localhost:8080/"
        },
        "id": "lo-1ZJGW_Gv8",
        "outputId": "fa4daabf-80be-40e9-e095-b5b9d55878f9"
      },
      "execution_count": 15,
      "outputs": [
        {
          "output_type": "stream",
          "name": "stdout",
          "text": [
            "accuracy of decision tree result 0.9965277777777778\n"
          ]
        }
      ]
    },
    {
      "cell_type": "code",
      "source": [
        "from sklearn.metrics import f1_score\n",
        "#f1 score is good to evaluate unbalanced data\n",
        "print('F1 macro score')\n",
        "print(f1_score(y_test, y_pred, average='macro')  )\n",
        "print('F1 micro score')\n",
        "print(f1_score(y_test, y_pred, average='micro')  )\n"
      ],
      "metadata": {
        "colab": {
          "base_uri": "https://localhost:8080/"
        },
        "id": "HBNJqUTS_J4Y",
        "outputId": "26bde85a-e17e-4e1c-ff80-7dcabf7aba5a"
      },
      "execution_count": 16,
      "outputs": [
        {
          "output_type": "stream",
          "name": "stdout",
          "text": [
            "F1 macro score\n",
            "0.9727865444580932\n",
            "F1 micro score\n",
            "0.9965277777777778\n"
          ]
        }
      ]
    },
    {
      "cell_type": "markdown",
      "source": [
        "# Confusion Matrix:\n",
        "A matrix showing the count of true positive, true negative, false positive, and false negative predictions."
      ],
      "metadata": {
        "id": "p0pN1QdS_w5M"
      }
    },
    {
      "cell_type": "code",
      "source": [
        "#confusion matrix of decision tree result with .2 random test dataset\n",
        "from sklearn.metrics import confusion_matrix\n",
        "print('confusion matrix of decision tree with .2 random test data:')\n",
        "print(confusion_matrix(y_test, y_pred))"
      ],
      "metadata": {
        "colab": {
          "base_uri": "https://localhost:8080/"
        },
        "id": "H0-rV4tZ_5xj",
        "outputId": "df350270-03f9-4672-ed6c-ce360d2c2cd6"
      },
      "execution_count": 17,
      "outputs": [
        {
          "output_type": "stream",
          "name": "stdout",
          "text": [
            "confusion matrix of decision tree with .2 random test data:\n",
            "[[278   1]\n",
            " [  0   9]]\n"
          ]
        }
      ]
    },
    {
      "cell_type": "code",
      "source": [
        "#Cross validation accuracy score wiht cv = 5\n",
        "from sklearn.model_selection import cross_val_score\n",
        "clf = DecisionTreeClassifier(max_depth=2, random_state=1)\n",
        "scores = cross_val_score(clf, X_train, y_train, cv=5)\n",
        "print('Cross validation confisuion matrix wiht cv = 5')\n",
        "print([s for s in scores])"
      ],
      "metadata": {
        "colab": {
          "base_uri": "https://localhost:8080/"
        },
        "id": "Nc1vg6wPAA8I",
        "outputId": "112b3980-c04a-4984-baa8-3e3edc09309e"
      },
      "execution_count": 18,
      "outputs": [
        {
          "output_type": "stream",
          "name": "stdout",
          "text": [
            "Cross validation confisuion matrix wiht cv = 5\n",
            "[1.0, 0.9956521739130435, 1.0, 0.9956521739130435, 0.9956521739130435]\n"
          ]
        }
      ]
    },
    {
      "cell_type": "code",
      "source": [
        "#Cross validation confisuion matrix wiht cv = 5\n",
        "from sklearn.model_selection import cross_val_predict\n",
        "y_pred = cross_val_predict(clf, X_train, y_train,cv=5)\n",
        "conf_mat = confusion_matrix(y_train,y_pred)\n",
        "print('Cross validation confisuion matrix wiht cv = 5')\n",
        "print(conf_mat)"
      ],
      "metadata": {
        "colab": {
          "base_uri": "https://localhost:8080/"
        },
        "id": "bBK18P1kAKc3",
        "outputId": "1000f476-0e31-4ce3-f788-57f978204977"
      },
      "execution_count": 19,
      "outputs": [
        {
          "output_type": "stream",
          "name": "stdout",
          "text": [
            "Cross validation confisuion matrix wiht cv = 5\n",
            "[[1120    1]\n",
            " [   2   27]]\n"
          ]
        }
      ]
    },
    {
      "cell_type": "markdown",
      "source": [
        "# Key Factors for Fraud Prediction\n",
        "The Decision Tree classifier doesn't inherently provide \"key factors\" like other models, but you can interpret the splits made by the tree to understand the features that contribute to the decision-making process.\n",
        "\n",
        "# Interpretation of Factors\n",
        "Unfortunately, the code provided doesn't contain explicit code for feature interpretation. However, you can interpret a Decision Tree by analyzing the splits it makes. Each split indicates a decision point based on certain features. By tracing the splits that lead to a particular outcome (fraud or not fraud), you can understand which features are influential in making that decision.\n",
        "\n",
        "# Prevention Measures\n",
        "The provided code focuses on building and evaluating a fraud detection model but doesn't include specific steps for prevention. In general, prevention measures could involve improving authentication mechanisms, monitoring for unusual patterns, setting up alerts for large transactions, etc.\n",
        "\n",
        "# Determining Effectiveness\n",
        "To determine the effectiveness of the model and prevention measures, you would need to:\n",
        "\n",
        "Collect data after implementing prevention measures.\n",
        "Monitor relevant metrics such as fraud incidents, accuracy, precision, recall, etc.\n",
        "Compare these metrics to the period before implementing the measures.\n",
        "\n",
        "This comparison would help you assess whether the model and preventive actions are achieving their intended goals.\n"
      ],
      "metadata": {
        "id": "DUm5t9n_AY9N"
      }
    },
    {
      "cell_type": "markdown",
      "source": [
        "# Interpretation:\n",
        "You would need to compare the performance metrics (accuracy, F1-score, confusion matrix) between the test set evaluation and cross-validation results. If the model performs well on both the test set and cross-validation, it suggests that the model generalizes well and the implemented actions are effective.\n",
        "\n",
        "## Monitoring over Time:\n",
        "To determine the long-term effectiveness of the implemented actions, you should continuously monitor the model's performance and relevant metrics. If the model's performance starts to deteriorate over time, it might indicate that the fraud patterns have changed, and you need to adapt your prevention measures accordingly.\n",
        "\n",
        "Remember that achieving effective fraud prevention is an ongoing process, and you should regularly revisit and refine your strategies based on new data and insights."
      ],
      "metadata": {
        "id": "-x4ZKWQrBG_i"
      }
    }
  ]
}